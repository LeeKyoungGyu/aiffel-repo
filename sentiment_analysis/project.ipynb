{
 "cells": [
  {
   "cell_type": "code",
   "execution_count": 111,
   "id": "f66ee529",
   "metadata": {},
   "outputs": [
    {
     "name": "stdout",
     "output_type": "stream",
     "text": [
      "1.3.3\n",
      "0.5.2\n",
      "4.1.2\n"
     ]
    }
   ],
   "source": [
    "import pandas\n",
    "import konlpy\n",
    "import gensim\n",
    "\n",
    "print(pandas.__version__)\n",
    "print(konlpy.__version__)\n",
    "print(gensim.__version__)"
   ]
  },
  {
   "cell_type": "markdown",
   "id": "52757a1c",
   "metadata": {},
   "source": [
    "# 1) 데이터 준비와 확인"
   ]
  },
  {
   "cell_type": "code",
   "execution_count": 201,
   "id": "645d387f",
   "metadata": {},
   "outputs": [
    {
     "data": {
      "text/html": [
       "<div>\n",
       "<style scoped>\n",
       "    .dataframe tbody tr th:only-of-type {\n",
       "        vertical-align: middle;\n",
       "    }\n",
       "\n",
       "    .dataframe tbody tr th {\n",
       "        vertical-align: top;\n",
       "    }\n",
       "\n",
       "    .dataframe thead th {\n",
       "        text-align: right;\n",
       "    }\n",
       "</style>\n",
       "<table border=\"1\" class=\"dataframe\">\n",
       "  <thead>\n",
       "    <tr style=\"text-align: right;\">\n",
       "      <th></th>\n",
       "      <th>id</th>\n",
       "      <th>document</th>\n",
       "      <th>label</th>\n",
       "    </tr>\n",
       "  </thead>\n",
       "  <tbody>\n",
       "    <tr>\n",
       "      <th>0</th>\n",
       "      <td>9976970</td>\n",
       "      <td>아 더빙.. 진짜 짜증나네요 목소리</td>\n",
       "      <td>0</td>\n",
       "    </tr>\n",
       "    <tr>\n",
       "      <th>1</th>\n",
       "      <td>3819312</td>\n",
       "      <td>흠...포스터보고 초딩영화줄....오버연기조차 가볍지 않구나</td>\n",
       "      <td>1</td>\n",
       "    </tr>\n",
       "    <tr>\n",
       "      <th>2</th>\n",
       "      <td>10265843</td>\n",
       "      <td>너무재밓었다그래서보는것을추천한다</td>\n",
       "      <td>0</td>\n",
       "    </tr>\n",
       "    <tr>\n",
       "      <th>3</th>\n",
       "      <td>9045019</td>\n",
       "      <td>교도소 이야기구먼 ..솔직히 재미는 없다..평점 조정</td>\n",
       "      <td>0</td>\n",
       "    </tr>\n",
       "    <tr>\n",
       "      <th>4</th>\n",
       "      <td>6483659</td>\n",
       "      <td>사이몬페그의 익살스런 연기가 돋보였던 영화!스파이더맨에서 늙어보이기만 했던 커스틴 ...</td>\n",
       "      <td>1</td>\n",
       "    </tr>\n",
       "  </tbody>\n",
       "</table>\n",
       "</div>"
      ],
      "text/plain": [
       "         id                                           document  label\n",
       "0   9976970                                아 더빙.. 진짜 짜증나네요 목소리      0\n",
       "1   3819312                  흠...포스터보고 초딩영화줄....오버연기조차 가볍지 않구나      1\n",
       "2  10265843                                  너무재밓었다그래서보는것을추천한다      0\n",
       "3   9045019                      교도소 이야기구먼 ..솔직히 재미는 없다..평점 조정      0\n",
       "4   6483659  사이몬페그의 익살스런 연기가 돋보였던 영화!스파이더맨에서 늙어보이기만 했던 커스틴 ...      1"
      ]
     },
     "execution_count": 201,
     "metadata": {},
     "output_type": "execute_result"
    }
   ],
   "source": [
    "import pandas as pd\n",
    "\n",
    "# 데이터를 읽어봅시다. \n",
    "train_data = pd.read_table('~/aiffel/sentiment_classification/data/ratings_train.txt')\n",
    "test_data = pd.read_table('~/aiffel/sentiment_classification/data/ratings_test.txt')\n",
    "\n",
    "train_data.head()"
   ]
  },
  {
   "cell_type": "markdown",
   "id": "74906d93",
   "metadata": {},
   "source": [
    "# 2) 데이터로더 구성\n",
    "\n",
    "실습 때 다루었던 IMDB 데이터셋은 텍스트를 가공하여 imdb.data_loader() 메서드를 호출하면 숫자 인덱스로 변환된 텍스트와 `word_to_index` 딕셔너리까지 친절하게 제공합니다. 그러나 이번에 다루게 될 nsmc 데이터셋은 전혀 가공되지 않은 텍스트 파일로 이루어져 있습니다. 이것을 읽어서 `imdb.data_loader()`와 동일하게 동작하는 자신만의 `data_loader`를 만들어 보는 것으로 시작합니다. `data_loader` 안에서는 다음을 수행해야 합니다.\n",
    "\n",
    "- 데이터의 중복 제거\n",
    "- NaN 결측치 제거\n",
    "- 한국어 토크나이저로 토큰화\n",
    "- 불용어(Stopwords) 제거\n",
    "- 사전 `word_to_index` 구성\n",
    "- 텍스트 스트링을 사전 인덱스 스트링으로 변환\n",
    "- `X_train`, `y_train`, `X_test`, `y_test`, `word_to_index` 리턴"
   ]
  },
  {
   "cell_type": "code",
   "execution_count": 202,
   "id": "03756273",
   "metadata": {},
   "outputs": [],
   "source": [
    "from konlpy.tag import Mecab\n",
    "import numpy as np\n",
    "from collections import Counter\n",
    "from konlpy.tag import Okt\n",
    "\n",
    "tokenizer = Mecab()\n",
    "stopwords = ['의','가','이','은','들','는','좀','잘','걍','과','도','를','으로','자','에','와','한','하다']\n",
    "num_words = 10_000\n",
    "\n",
    "def load_data(train_data, test_data, num_words=num_words):\n",
    "    train_data = train_data.copy()\n",
    "    \n",
    "    # 데이터의 중복 제거\n",
    "    train_data = train_data.drop_duplicates([\"document\"], keep=\"first\")\n",
    "    test_data = test_data.drop_duplicates([\"document\"], keep=\"first\")\n",
    "\n",
    "                    \n",
    "    # NaN 결측치 제거\n",
    "    train_data = train_data.drop(\n",
    "        train_data[train_data.isna().any(axis=1)].index\n",
    "    )\n",
    "    test_data = test_data.drop(\n",
    "        test_data[test_data.isna().any(axis=1)].index\n",
    "    )\n",
    "    \n",
    "    # 한국어 토크나이저로 토큰화\n",
    "    # 불용어(Stopwords) 제거\n",
    "    train_document_tokens = []\n",
    "    for doc in train_data[\"document\"]:\n",
    "        tokens = tokenizer.morphs(doc)\n",
    "        tokens_without_stopword = [token for token in tokens if token not in stopwords]\n",
    "        train_document_tokens.append(tokens_without_stopword)\n",
    "\n",
    "    test_document_tokens = []\n",
    "    for doc in test_data[\"document\"]:\n",
    "        tokens = tokenizer.morphs(doc)\n",
    "        tokens_without_stopword = [token for token in tokens if token not in stopwords]\n",
    "        test_document_tokens.append(tokens_without_stopword)\n",
    "    \n",
    "    # 사전 word_to_index 구성\n",
    "    counter = Counter()\n",
    "    for tokens in train_document_tokens:\n",
    "        counter.update(tokens)\n",
    "    for tokens in test_document_tokens:\n",
    "        counter.update(tokens)\n",
    "\n",
    "    word_to_index = {\n",
    "        \"<PAD>\": 0,\n",
    "        \"<BOS>\": 1,\n",
    "        \"<UNK>\": 2,\n",
    "    }\n",
    "    for token, _ in counter.most_common(num_words):\n",
    "        word_to_index[token] = len(word_to_index)\n",
    "        \n",
    "    # 텍스트 스트링을 사전 인덱스 스트링으로 변환\n",
    "    X_train = []\n",
    "    for tokens in train_document_tokens:\n",
    "        X_train.append(\n",
    "            [word_to_index.get(token, word_to_index[\"<UNK>\"]) \n",
    "             for token in tokens]\n",
    "        )\n",
    "    X_test = []\n",
    "    for tokens in test_document_tokens:\n",
    "        X_test.append(\n",
    "            [word_to_index.get(token, word_to_index[\"<UNK>\"]) \n",
    "             for token in tokens]\n",
    "        )\n",
    "    \n",
    "    return (\n",
    "        X_train, np.array(train_data[\"label\"]),\n",
    "        X_test, np.array(test_data[\"label\"]),\n",
    "        word_to_index,\n",
    "    )\n",
    "    \n",
    "X_train, y_train, X_test, y_test, word_to_index = load_data(train_data, test_data)"
   ]
  },
  {
   "cell_type": "code",
   "execution_count": 203,
   "id": "4e9627ed",
   "metadata": {},
   "outputs": [],
   "source": [
    "index_to_word = {index:word for word, index in word_to_index.items()}"
   ]
  },
  {
   "cell_type": "code",
   "execution_count": 204,
   "id": "7af837f6",
   "metadata": {},
   "outputs": [],
   "source": [
    "# 문장 1개를 활용할 딕셔너리와 함께 주면, 단어 인덱스 리스트 벡터로 변환해 주는 함수입니다. \n",
    "# 단, 모든 문장은 <BOS>로 시작하는 것으로 합니다. \n",
    "def get_encoded_sentence(sentence, word_to_index):\n",
    "    return [word_to_index['<BOS>']]+[word_to_index[word] if word in word_to_index else word_to_index['<UNK>'] for word in sentence.split()]\n",
    "\n",
    "# 여러 개의 문장 리스트를 한꺼번에 단어 인덱스 리스트 벡터로 encode해 주는 함수입니다. \n",
    "def get_encoded_sentences(sentences, word_to_index):\n",
    "    return [get_encoded_sentence(sentence, word_to_index) for sentence in sentences]\n",
    "\n",
    "# 숫자 벡터로 encode된 문장을 원래대로 decode하는 함수입니다. \n",
    "def get_decoded_sentence(encoded_sentence, index_to_word):\n",
    "    return ' '.join(index_to_word[index] if index in index_to_word else '<UNK>' for index in encoded_sentence[1:])  #[1:]를 통해 <BOS>를 제외\n",
    "\n",
    "# 여러 개의 숫자 벡터로 encode된 문장을 한꺼번에 원래대로 decode하는 함수입니다. \n",
    "def get_decoded_sentences(encoded_sentences, index_to_word):\n",
    "    return [get_decoded_sentence(encoded_sentence, index_to_word) for encoded_sentence in encoded_sentences]"
   ]
  },
  {
   "cell_type": "markdown",
   "id": "e7fe67f7",
   "metadata": {},
   "source": [
    "# 3) 모델 구성을 위한 데이터 분석 및 가공\n",
    "\n",
    "- 데이터셋 내 문장 길이 분포\n",
    "- 적절한 최대 문장 길이 지정\n",
    "- keras.preprocessing.sequence.pad_sequences 을 활용한 패딩 추가"
   ]
  },
  {
   "cell_type": "code",
   "execution_count": 205,
   "id": "67e4acdd",
   "metadata": {},
   "outputs": [
    {
     "name": "stdout",
     "output_type": "stream",
     "text": [
      "문장길이 평균 :  15.96940191154864\n",
      "문장길이 최대 :  116\n",
      "문장길이 표준편차 :  12.843571191092\n",
      "pad_sequences maxlen :  41\n",
      "전체 문장의 0.9342988343341575%가 maxlen 설정값 이내에 포함됩니다. \n"
     ]
    }
   ],
   "source": [
    "total_data_text = list(X_train) + list(X_test)\n",
    "\n",
    "# 텍스트데이터 문장길이의 리스트를 생성한 후\n",
    "num_tokens = [len(tokens) for tokens in total_data_text]\n",
    "num_tokens = np.array(num_tokens)\n",
    "\n",
    "# 문장길이의 평균값, 최대값, 표준편차를 계산해 본다. \n",
    "print('문장길이 평균 : ', np.mean(num_tokens))\n",
    "print('문장길이 최대 : ', np.max(num_tokens))\n",
    "print('문장길이 표준편차 : ', np.std(num_tokens))\n",
    "\n",
    "# 예를들어, 최대 길이를 (평균 + 2*표준편차)로 한다면,  \n",
    "max_tokens = np.mean(num_tokens) + 2 * np.std(num_tokens)\n",
    "maxlen = int(max_tokens)\n",
    "print('pad_sequences maxlen : ', maxlen)\n",
    "print(f'전체 문장의 {np.sum(num_tokens < max_tokens) / len(num_tokens)}%가 maxlen 설정값 이내에 포함됩니다. ')"
   ]
  },
  {
   "cell_type": "code",
   "execution_count": 206,
   "id": "cc0a3ecf",
   "metadata": {},
   "outputs": [],
   "source": [
    "from tensorflow.keras.preprocessing.sequence import pad_sequences\n",
    "\n",
    "X_train = pad_sequences(X_train,\n",
    "                        value=word_to_index[\"<PAD>\"],\n",
    "                        padding=\"pre\",\n",
    "                        maxlen=maxlen)\n",
    "\n",
    "X_test = pad_sequences(X_test,\n",
    "                       value=word_to_index[\"<PAD>\"],\n",
    "                       padding=\"pre\",\n",
    "                       maxlen=maxlen)"
   ]
  },
  {
   "cell_type": "code",
   "execution_count": 207,
   "id": "cf6bf3e2",
   "metadata": {},
   "outputs": [
    {
     "name": "stdout",
     "output_type": "stream",
     "text": [
      "X_train.shape=(146182, 41)\n",
      "X_test.shape=(49157, 41)\n"
     ]
    },
    {
     "data": {
      "text/plain": [
       "array([  0,   0,   0,   0,   0,   0,   0,   0,   0,   0,   0,   0,   0,\n",
       "         0,   0,   0,   0,   0,   0,   0,   0,   0,   0,   0,   0,   0,\n",
       "         0,   0,   0,   0,   0,  31,  72, 921,   3,   3,  37, 222,  19,\n",
       "        32, 736], dtype=int32)"
      ]
     },
     "execution_count": 207,
     "metadata": {},
     "output_type": "execute_result"
    }
   ],
   "source": [
    "print(f\"{X_train.shape=}\")\n",
    "print(f\"{X_test.shape=}\")\n",
    "X_train[0]"
   ]
  },
  {
   "cell_type": "markdown",
   "id": "f6a052ef",
   "metadata": {},
   "source": [
    "# 4) 모델 구성 및 validation set 구성"
   ]
  },
  {
   "cell_type": "code",
   "execution_count": 208,
   "id": "571a7e69",
   "metadata": {},
   "outputs": [
    {
     "name": "stdout",
     "output_type": "stream",
     "text": [
      "len(X_train)=100000, len(X_valid)=46182\n"
     ]
    }
   ],
   "source": [
    "X_valid = X_train[100_000:]\n",
    "y_valid = y_train[100_000:]\n",
    "\n",
    "X_train = X_train[:100_000]\n",
    "y_train = y_train[:100_000]\n",
    "\n",
    "print(f\"{len(X_train)=}, {len(X_valid)=}\")"
   ]
  },
  {
   "cell_type": "code",
   "execution_count": 209,
   "id": "f6e93f62",
   "metadata": {},
   "outputs": [
    {
     "name": "stdout",
     "output_type": "stream",
     "text": [
      "Model: \"GRU_model\"\n",
      "_________________________________________________________________\n",
      "Layer (type)                 Output Shape              Param #   \n",
      "=================================================================\n",
      "embedding_24 (Embedding)     (None, None, 30)          300090    \n",
      "_________________________________________________________________\n",
      "gru_8 (GRU)                  (None, 30)                5580      \n",
      "_________________________________________________________________\n",
      "dense_48 (Dense)             (None, 30)                930       \n",
      "_________________________________________________________________\n",
      "dense_49 (Dense)             (None, 1)                 31        \n",
      "=================================================================\n",
      "Total params: 306,631\n",
      "Trainable params: 306,631\n",
      "Non-trainable params: 0\n",
      "_________________________________________________________________\n"
     ]
    }
   ],
   "source": [
    "import tensorflow as tf\n",
    "from tensorflow import keras\n",
    "\n",
    "vocab_size = len(word_to_index)\n",
    "word_vector_dim = 30\n",
    "\n",
    "gru_model = keras.models.Sequential([\n",
    "    keras.layers.Embedding(vocab_size, word_vector_dim),\n",
    "    keras.layers.GRU(30),\n",
    "    keras.layers.Dense(30, activation=\"relu\"),\n",
    "    keras.layers.Dense(1, activation=\"sigmoid\"),\n",
    "], name=\"GRU_model\")\n",
    "\n",
    "gru_model.summary()"
   ]
  },
  {
   "cell_type": "code",
   "execution_count": 210,
   "id": "9f2590d4",
   "metadata": {},
   "outputs": [
    {
     "name": "stdout",
     "output_type": "stream",
     "text": [
      "Model: \"LSTM_model\"\n",
      "_________________________________________________________________\n",
      "Layer (type)                 Output Shape              Param #   \n",
      "=================================================================\n",
      "embedding_25 (Embedding)     (None, None, 30)          300090    \n",
      "_________________________________________________________________\n",
      "lstm_12 (LSTM)               (None, 30)                7320      \n",
      "_________________________________________________________________\n",
      "dense_50 (Dense)             (None, 30)                930       \n",
      "_________________________________________________________________\n",
      "dense_51 (Dense)             (None, 1)                 31        \n",
      "=================================================================\n",
      "Total params: 308,371\n",
      "Trainable params: 308,371\n",
      "Non-trainable params: 0\n",
      "_________________________________________________________________\n"
     ]
    }
   ],
   "source": [
    "lstm_model = keras.models.Sequential([\n",
    "    keras.layers.Embedding(vocab_size, word_vector_dim),\n",
    "    keras.layers.LSTM(30),\n",
    "    keras.layers.Dense(30, activation=\"relu\"),\n",
    "    keras.layers.Dense(1, activation=\"sigmoid\"),\n",
    "], name=\"LSTM_model\")\n",
    "\n",
    "lstm_model.summary()"
   ]
  },
  {
   "cell_type": "code",
   "execution_count": 211,
   "id": "9385f0f7",
   "metadata": {},
   "outputs": [
    {
     "name": "stdout",
     "output_type": "stream",
     "text": [
      "Model: \"CNN_model\"\n",
      "_________________________________________________________________\n",
      "Layer (type)                 Output Shape              Param #   \n",
      "=================================================================\n",
      "embedding_26 (Embedding)     (None, None, 30)          300090    \n",
      "_________________________________________________________________\n",
      "conv1d_8 (Conv1D)            (None, None, 16)          3376      \n",
      "_________________________________________________________________\n",
      "max_pooling1d_8 (MaxPooling1 (None, None, 16)          0         \n",
      "_________________________________________________________________\n",
      "conv1d_9 (Conv1D)            (None, None, 32)          3616      \n",
      "_________________________________________________________________\n",
      "max_pooling1d_9 (MaxPooling1 (None, None, 32)          0         \n",
      "_________________________________________________________________\n",
      "global_max_pooling1d_4 (Glob (None, 32)                0         \n",
      "_________________________________________________________________\n",
      "dense_52 (Dense)             (None, 30)                990       \n",
      "_________________________________________________________________\n",
      "dense_53 (Dense)             (None, 1)                 31        \n",
      "=================================================================\n",
      "Total params: 308,103\n",
      "Trainable params: 308,103\n",
      "Non-trainable params: 0\n",
      "_________________________________________________________________\n"
     ]
    }
   ],
   "source": [
    "cnn_model = keras.models.Sequential([\n",
    "    keras.layers.Embedding(vocab_size, word_vector_dim),\n",
    "    keras.layers.Conv1D(16, 7, activation=\"relu\"),\n",
    "    keras.layers.MaxPooling1D(),\n",
    "    keras.layers.Conv1D(32, 7, activation=\"relu\"),\n",
    "    keras.layers.MaxPooling1D(),\n",
    "    keras.layers.GlobalMaxPooling1D(),\n",
    "    keras.layers.Dense(30, activation=\"relu\"),\n",
    "    keras.layers.Dense(1, activation=\"sigmoid\"),\n",
    "], name=\"CNN_model\")\n",
    "\n",
    "cnn_model.summary()"
   ]
  },
  {
   "cell_type": "markdown",
   "id": "3ba75ce1",
   "metadata": {},
   "source": [
    "# 5) 모델 훈련 개시"
   ]
  },
  {
   "cell_type": "code",
   "execution_count": 212,
   "id": "83430634",
   "metadata": {},
   "outputs": [
    {
     "name": "stdout",
     "output_type": "stream",
     "text": [
      "Epoch 1/20\n",
      "1563/1563 [==============================] - 16s 7ms/step - loss: 0.3945 - accuracy: 0.8205 - val_loss: 0.3511 - val_accuracy: 0.8470\n",
      "Epoch 2/20\n",
      "1563/1563 [==============================] - 9s 6ms/step - loss: 0.3138 - accuracy: 0.8667 - val_loss: 0.3327 - val_accuracy: 0.8545\n",
      "Epoch 3/20\n",
      "1563/1563 [==============================] - 9s 6ms/step - loss: 0.2772 - accuracy: 0.8843 - val_loss: 0.3339 - val_accuracy: 0.8576\n",
      "Epoch 4/20\n",
      "1563/1563 [==============================] - 9s 6ms/step - loss: 0.2445 - accuracy: 0.8989 - val_loss: 0.3443 - val_accuracy: 0.8549\n",
      "Epoch 5/20\n",
      "1563/1563 [==============================] - 9s 6ms/step - loss: 0.2180 - accuracy: 0.9117 - val_loss: 0.3676 - val_accuracy: 0.8513\n",
      "Epoch 6/20\n",
      "1563/1563 [==============================] - 9s 6ms/step - loss: 0.1935 - accuracy: 0.9222 - val_loss: 0.4359 - val_accuracy: 0.8481\n",
      "Epoch 7/20\n",
      "1563/1563 [==============================] - 9s 6ms/step - loss: 0.1716 - accuracy: 0.9317 - val_loss: 0.4481 - val_accuracy: 0.8458\n",
      "Epoch 8/20\n",
      "1563/1563 [==============================] - 9s 6ms/step - loss: 0.1525 - accuracy: 0.9410 - val_loss: 0.4808 - val_accuracy: 0.8414\n",
      "Epoch 9/20\n",
      "1563/1563 [==============================] - 9s 6ms/step - loss: 0.1348 - accuracy: 0.9471 - val_loss: 0.5280 - val_accuracy: 0.8415\n",
      "Epoch 10/20\n",
      "1563/1563 [==============================] - 9s 6ms/step - loss: 0.1200 - accuracy: 0.9538 - val_loss: 0.6140 - val_accuracy: 0.8393\n",
      "Epoch 11/20\n",
      "1563/1563 [==============================] - 9s 6ms/step - loss: 0.1079 - accuracy: 0.9587 - val_loss: 0.6468 - val_accuracy: 0.8358\n",
      "Epoch 12/20\n",
      "1563/1563 [==============================] - 9s 6ms/step - loss: 0.0975 - accuracy: 0.9631 - val_loss: 0.7030 - val_accuracy: 0.8358\n",
      "Epoch 13/20\n",
      "1563/1563 [==============================] - 9s 6ms/step - loss: 0.0877 - accuracy: 0.9673 - val_loss: 0.7506 - val_accuracy: 0.8340\n",
      "Epoch 14/20\n",
      "1563/1563 [==============================] - 9s 6ms/step - loss: 0.0806 - accuracy: 0.9689 - val_loss: 0.8388 - val_accuracy: 0.8361\n",
      "Epoch 15/20\n",
      "1563/1563 [==============================] - 9s 6ms/step - loss: 0.0727 - accuracy: 0.9722 - val_loss: 0.9090 - val_accuracy: 0.8351\n",
      "Epoch 16/20\n",
      "1563/1563 [==============================] - 9s 6ms/step - loss: 0.0656 - accuracy: 0.9756 - val_loss: 1.0140 - val_accuracy: 0.8343\n",
      "Epoch 17/20\n",
      "1563/1563 [==============================] - 9s 6ms/step - loss: 0.0606 - accuracy: 0.9769 - val_loss: 0.9870 - val_accuracy: 0.8245\n",
      "Epoch 18/20\n",
      "1563/1563 [==============================] - 9s 6ms/step - loss: 0.0558 - accuracy: 0.9785 - val_loss: 1.0568 - val_accuracy: 0.8332\n",
      "Epoch 19/20\n",
      "1563/1563 [==============================] - 9s 6ms/step - loss: 0.0516 - accuracy: 0.9803 - val_loss: 1.1298 - val_accuracy: 0.8297\n",
      "Epoch 20/20\n",
      "1563/1563 [==============================] - 9s 6ms/step - loss: 0.0469 - accuracy: 0.9818 - val_loss: 1.2147 - val_accuracy: 0.8331\n",
      "Epoch 1/20\n",
      "1563/1563 [==============================] - 12s 6ms/step - loss: 0.3890 - accuracy: 0.8230 - val_loss: 0.3469 - val_accuracy: 0.8465\n",
      "Epoch 2/20\n",
      "1563/1563 [==============================] - 10s 6ms/step - loss: 0.3073 - accuracy: 0.8681 - val_loss: 0.3307 - val_accuracy: 0.8549\n",
      "Epoch 3/20\n",
      "1563/1563 [==============================] - 10s 6ms/step - loss: 0.2666 - accuracy: 0.8866 - val_loss: 0.3337 - val_accuracy: 0.8564\n",
      "Epoch 4/20\n",
      "1563/1563 [==============================] - 9s 6ms/step - loss: 0.2332 - accuracy: 0.9030 - val_loss: 0.3511 - val_accuracy: 0.8540\n",
      "Epoch 5/20\n",
      "1563/1563 [==============================] - 9s 6ms/step - loss: 0.2047 - accuracy: 0.9163 - val_loss: 0.3831 - val_accuracy: 0.8510\n",
      "Epoch 6/20\n",
      "1563/1563 [==============================] - 10s 6ms/step - loss: 0.1808 - accuracy: 0.9271 - val_loss: 0.4357 - val_accuracy: 0.8509\n",
      "Epoch 7/20\n",
      "1563/1563 [==============================] - 9s 6ms/step - loss: 0.1579 - accuracy: 0.9377 - val_loss: 0.4574 - val_accuracy: 0.8478\n",
      "Epoch 8/20\n",
      "1563/1563 [==============================] - 9s 6ms/step - loss: 0.1415 - accuracy: 0.9446 - val_loss: 0.4824 - val_accuracy: 0.8454\n",
      "Epoch 9/20\n",
      "1563/1563 [==============================] - 10s 6ms/step - loss: 0.1248 - accuracy: 0.9515 - val_loss: 0.6096 - val_accuracy: 0.8457\n",
      "Epoch 10/20\n",
      "1563/1563 [==============================] - 10s 6ms/step - loss: 0.1120 - accuracy: 0.9569 - val_loss: 0.6461 - val_accuracy: 0.8424\n",
      "Epoch 11/20\n",
      "1563/1563 [==============================] - 10s 6ms/step - loss: 0.1022 - accuracy: 0.9605 - val_loss: 0.6549 - val_accuracy: 0.8405\n",
      "Epoch 12/20\n",
      "1563/1563 [==============================] - 9s 6ms/step - loss: 0.0912 - accuracy: 0.9653 - val_loss: 0.7610 - val_accuracy: 0.8377\n",
      "Epoch 13/20\n",
      "1563/1563 [==============================] - 9s 6ms/step - loss: 0.0831 - accuracy: 0.9678 - val_loss: 0.7826 - val_accuracy: 0.8316\n",
      "Epoch 14/20\n",
      "1563/1563 [==============================] - 9s 6ms/step - loss: 0.0749 - accuracy: 0.9708 - val_loss: 0.8723 - val_accuracy: 0.8381\n",
      "Epoch 15/20\n",
      "1563/1563 [==============================] - 9s 6ms/step - loss: 0.0687 - accuracy: 0.9732 - val_loss: 0.9146 - val_accuracy: 0.8370\n",
      "Epoch 16/20\n",
      "1563/1563 [==============================] - 9s 6ms/step - loss: 0.0625 - accuracy: 0.9754 - val_loss: 0.9555 - val_accuracy: 0.8349\n",
      "Epoch 17/20\n",
      "1563/1563 [==============================] - 9s 6ms/step - loss: 0.0594 - accuracy: 0.9770 - val_loss: 0.9470 - val_accuracy: 0.8310\n",
      "Epoch 18/20\n",
      "1563/1563 [==============================] - 9s 6ms/step - loss: 0.0551 - accuracy: 0.9785 - val_loss: 1.0335 - val_accuracy: 0.8336\n",
      "Epoch 19/20\n",
      "1563/1563 [==============================] - 9s 6ms/step - loss: 0.0504 - accuracy: 0.9804 - val_loss: 1.1015 - val_accuracy: 0.8329\n",
      "Epoch 20/20\n",
      "1563/1563 [==============================] - 9s 6ms/step - loss: 0.0475 - accuracy: 0.9817 - val_loss: 1.1548 - val_accuracy: 0.8331\n",
      "Epoch 1/20\n",
      "1563/1563 [==============================] - 9s 5ms/step - loss: 0.4700 - accuracy: 0.7575 - val_loss: 0.4305 - val_accuracy: 0.7916\n",
      "Epoch 2/20\n",
      "1563/1563 [==============================] - 8s 5ms/step - loss: 0.3724 - accuracy: 0.8235 - val_loss: 0.4240 - val_accuracy: 0.7982\n",
      "Epoch 3/20\n",
      "1563/1563 [==============================] - 8s 5ms/step - loss: 0.3026 - accuracy: 0.8617 - val_loss: 0.4679 - val_accuracy: 0.7899\n",
      "Epoch 4/20\n",
      "1563/1563 [==============================] - 8s 5ms/step - loss: 0.2326 - accuracy: 0.8936 - val_loss: 0.5108 - val_accuracy: 0.7831\n",
      "Epoch 5/20\n",
      "1563/1563 [==============================] - 8s 5ms/step - loss: 0.1828 - accuracy: 0.9157 - val_loss: 0.6309 - val_accuracy: 0.7842\n",
      "Epoch 6/20\n",
      "1563/1563 [==============================] - 8s 5ms/step - loss: 0.1531 - accuracy: 0.9280 - val_loss: 0.7347 - val_accuracy: 0.7769\n",
      "Epoch 7/20\n",
      "1563/1563 [==============================] - 8s 5ms/step - loss: 0.1340 - accuracy: 0.9358 - val_loss: 0.8128 - val_accuracy: 0.7724\n",
      "Epoch 8/20\n",
      "1563/1563 [==============================] - 8s 5ms/step - loss: 0.1218 - accuracy: 0.9406 - val_loss: 0.8963 - val_accuracy: 0.7743\n",
      "Epoch 9/20\n",
      "1563/1563 [==============================] - 8s 5ms/step - loss: 0.1147 - accuracy: 0.9421 - val_loss: 0.9669 - val_accuracy: 0.7678\n",
      "Epoch 10/20\n",
      "1563/1563 [==============================] - 8s 5ms/step - loss: 0.1070 - accuracy: 0.9460 - val_loss: 1.0557 - val_accuracy: 0.7711\n",
      "Epoch 11/20\n",
      "1563/1563 [==============================] - 8s 5ms/step - loss: 0.1022 - accuracy: 0.9478 - val_loss: 1.0927 - val_accuracy: 0.7661\n",
      "Epoch 12/20\n",
      "1563/1563 [==============================] - 8s 5ms/step - loss: 0.0970 - accuracy: 0.9490 - val_loss: 1.1516 - val_accuracy: 0.7684\n",
      "Epoch 13/20\n",
      "1563/1563 [==============================] - 8s 5ms/step - loss: 0.0942 - accuracy: 0.9503 - val_loss: 1.2272 - val_accuracy: 0.7693\n",
      "Epoch 14/20\n",
      "1563/1563 [==============================] - 8s 5ms/step - loss: 0.0906 - accuracy: 0.9522 - val_loss: 1.2916 - val_accuracy: 0.7659\n",
      "Epoch 15/20\n",
      "1563/1563 [==============================] - 8s 5ms/step - loss: 0.0871 - accuracy: 0.9536 - val_loss: 1.3934 - val_accuracy: 0.7670\n",
      "Epoch 16/20\n",
      "1563/1563 [==============================] - 8s 5ms/step - loss: 0.0859 - accuracy: 0.9537 - val_loss: 1.4317 - val_accuracy: 0.7677\n",
      "Epoch 17/20\n",
      "1563/1563 [==============================] - 8s 5ms/step - loss: 0.0836 - accuracy: 0.9543 - val_loss: 1.4817 - val_accuracy: 0.7654\n",
      "Epoch 18/20\n",
      "1563/1563 [==============================] - 8s 5ms/step - loss: 0.0827 - accuracy: 0.9552 - val_loss: 1.4548 - val_accuracy: 0.7658\n",
      "Epoch 19/20\n",
      "1563/1563 [==============================] - 8s 5ms/step - loss: 0.0812 - accuracy: 0.9558 - val_loss: 1.4592 - val_accuracy: 0.7643\n",
      "Epoch 20/20\n",
      "1563/1563 [==============================] - 8s 5ms/step - loss: 0.0790 - accuracy: 0.9563 - val_loss: 1.5292 - val_accuracy: 0.7649\n"
     ]
    }
   ],
   "source": [
    "import tensorflow as tf\n",
    "\n",
    "models = [\n",
    "    gru_model,\n",
    "    lstm_model,\n",
    "    cnn_model,\n",
    "]\n",
    "          \n",
    "histories = []\n",
    "\n",
    "for model in models:\n",
    "    model.compile(optimizer='adam',\n",
    "                  loss='binary_crossentropy',\n",
    "                  metrics=['accuracy'])\n",
    "    \n",
    "    callbacks = [\n",
    "        keras.callbacks.ModelCheckpoint(f\"{model.name}.keras\",\n",
    "                                        monitor=\"val_loss\",\n",
    "                                        save_best_only=True)\n",
    "    ]\n",
    "\n",
    "    history = model.fit(X_train, y_train,\n",
    "                        epochs=20,\n",
    "                        batch_size=64,\n",
    "                        validation_data=(X_valid, y_valid),\n",
    "                        callbacks=callbacks,\n",
    "                        verbose=1)\n",
    "    histories.append(history)"
   ]
  },
  {
   "cell_type": "markdown",
   "id": "68cc0dd4",
   "metadata": {},
   "source": [
    "# 6) Loss, Accuracy 그래프 시각화"
   ]
  },
  {
   "cell_type": "code",
   "execution_count": 218,
   "id": "e7901178",
   "metadata": {},
   "outputs": [],
   "source": [
    "import matplotlib.pyplot as plt\n",
    "\n",
    "def plot_history(model, history):\n",
    "    acc = history.history['accuracy']\n",
    "    val_acc = history.history['val_accuracy']\n",
    "    loss = history.history['loss']\n",
    "    val_loss = history.history['val_loss']\n",
    "\n",
    "    epochs = range(1, len(acc) + 1)\n",
    "\n",
    "    # Loss\n",
    "    plt.subplot(1,2,1)\n",
    "    plt.plot(epochs, loss, 'bo', label='Training loss')\n",
    "    plt.plot(epochs, val_loss, 'b', label='Validation loss')\n",
    "    plt.title(f'{model.name} loss')\n",
    "    plt.xlabel('Epochs')\n",
    "    plt.ylabel('Loss')\n",
    "    plt.legend()\n",
    "\n",
    "    # Accuracy\n",
    "    plt.subplot(1,2,2)\n",
    "    plt.plot(epochs, acc, 'bo', label='Training acc')\n",
    "    plt.plot(epochs, val_acc, 'b', label='Validation acc')\n",
    "    plt.title('Training and validation accuracy')\n",
    "    plt.xlabel('Epochs')\n",
    "    plt.title(f'{model.name} accuracy')\n",
    "    plt.legend()\n"
   ]
  },
  {
   "cell_type": "code",
   "execution_count": 220,
   "id": "4a96d741",
   "metadata": {},
   "outputs": [
    {
     "data": {
      "image/png": "[encoded data removed]",
      "text/plain": [
       "<Figure size 720x360 with 2 Axes>"
      ]
     },
     "metadata": {
      "needs_background": "light"
     },
     "output_type": "display_data"
    },
    {
     "data": {
      "image/png": "[encoded data removed]",
      "text/plain": [
       "<Figure size 720x360 with 2 Axes>"
      ]
     },
     "metadata": {
      "needs_background": "light"
     },
     "output_type": "display_data"
    },
    {
     "data": {
      "image/png": "[encoded data removed]",
      "text/plain": [
       "<Figure size 720x360 with 2 Axes>"
      ]
     },
     "metadata": {
      "needs_background": "light"
     },
     "output_type": "display_data"
    }
   ],
   "source": [
    "for model, history in zip(models, histories):\n",
    "    plt.figure(figsize=(10, 5))\n",
    "    plot_history(model, history)\n",
    "    plt.show()"
   ]
  },
  {
   "cell_type": "code",
   "execution_count": 266,
   "id": "a941431c",
   "metadata": {},
   "outputs": [
    {
     "name": "stdout",
     "output_type": "stream",
     "text": [
      "1537/1537 - 3s - loss: 0.3362 - accuracy: 0.8528\n",
      "[GRU_model] test_loss=0.3361831307411194, test_accuracy=0.8527575135231018\n",
      "\n",
      "\n",
      "1537/1537 - 3s - loss: 0.3349 - accuracy: 0.8537\n",
      "[LSTM_model] test_loss=0.3349301517009735, test_accuracy=0.8536525964736938\n",
      "\n",
      "\n",
      "1537/1537 - 2s - loss: 0.4284 - accuracy: 0.7954\n",
      "[CNN_model] test_loss=0.4283751845359802, test_accuracy=0.7953903079032898\n",
      "\n",
      "\n"
     ]
    }
   ],
   "source": [
    "for model in models:\n",
    "    best_model = tf.keras.models.load_model(f\"{model.name}.keras\")\n",
    "    test_loss, test_accuracy = best_model.evaluate(X_test,  y_test, verbose=2)\n",
    "\n",
    "    print(f\"[{model.name}] {test_loss=}, {test_accuracy=}\\n\\n\")"
   ]
  },
  {
   "cell_type": "markdown",
   "id": "4b40a910",
   "metadata": {},
   "source": [
    "# 7) 학습된 Embedding 레이어 분석"
   ]
  },
  {
   "cell_type": "code",
   "execution_count": 270,
   "id": "275818b1",
   "metadata": {},
   "outputs": [],
   "source": [
    "import os\n",
    "\n",
    "best_lstm_model = tf.keras.models.load_model(\"LSTM_model.keras\")\n",
    "\n",
    "# 학습한 Embedding 파라미터를 파일에 써서 저장합니다. \n",
    "word2vec_file_path = os.getenv('HOME')+'/aiffel/sentiment_classification/data/nsmc_word2vec.txt'\n",
    "\n",
    "with open(word2vec_file_path, 'w') as f:\n",
    "    f.write('{} {}\\n'.format(vocab_size-4, word_vector_dim))  # 몇개의 벡터를 얼마 사이즈로 기재할지 타이틀을 씁니다.\n",
    "\n",
    "    # 단어 개수(에서 특수문자 4개는 제외하고)만큼의 워드 벡터를 파일에 기록합니다. \n",
    "    vectors = best_lstm_model.get_weights()[0]\n",
    "    for i in range(4, vocab_size):\n",
    "        f.write('{} {}\\n'.format(index_to_word[i], ' '.join(map(str, list(vectors[i, :])))))"
   ]
  },
  {
   "cell_type": "code",
   "execution_count": 272,
   "id": "19d30434",
   "metadata": {},
   "outputs": [
    {
     "data": {
      "text/plain": [
       "[('당함', 0.877016007900238),\n",
       " ('명작', 0.8660417795181274),\n",
       " ('정무문', 0.8579185605049133),\n",
       " ('내린', 0.8579135537147522),\n",
       " ('이만', 0.8577544689178467),\n",
       " ('련지', 0.8569226861000061),\n",
       " ('걸작', 0.8558192849159241),\n",
       " ('치즈', 0.8533986210823059),\n",
       " ('해냈', 0.8519948720932007),\n",
       " ('봐야', 0.8519643545150757)]"
      ]
     },
     "execution_count": 272,
     "metadata": {},
     "output_type": "execute_result"
    }
   ],
   "source": [
    "from gensim.models.keyedvectors import Word2VecKeyedVectors\n",
    "\n",
    "lstm_word_vectors = Word2VecKeyedVectors.load_word2vec_format(word2vec_file_path, binary=False)\n",
    "lstm_word_vectors.similar_by_word(\"싸움\")"
   ]
  },
  {
   "cell_type": "markdown",
   "id": "68793a13",
   "metadata": {},
   "source": [
    "# 8) 한국어 Word2Vec 임베딩 활용하여 성능 개선"
   ]
  },
  {
   "cell_type": "code",
   "execution_count": 229,
   "id": "318d28ea",
   "metadata": {},
   "outputs": [
    {
     "data": {
      "text/plain": [
       "array([ 1.038851  , -1.1634965 ,  2.2386286 ,  0.8971453 , -2.088168  ,\n",
       "       -4.1942534 , -0.02519768, -0.69813883, -0.2908033 , -1.4651134 ,\n",
       "       -2.6863668 ,  0.7999443 , -0.6957915 , -0.5018775 ,  3.5025773 ,\n",
       "        0.21326113, -0.6588098 , -1.1900496 ,  0.61399573,  2.1247969 ,\n",
       "        0.1549463 ,  3.0840218 ,  3.1680267 , -3.9143991 ,  3.6073153 ,\n",
       "        0.5315545 , -0.3511633 , -1.107248  ,  1.7767181 , -0.95981866,\n",
       "        2.6072454 , -0.00697957, -3.27628   ,  1.558644  ,  0.81922376,\n",
       "        1.9231955 ,  3.7026553 , -0.53824735, -0.4920138 ,  2.4657123 ,\n",
       "       -2.620749  , -0.08950733,  0.61453176,  1.8866426 ,  0.257866  ,\n",
       "       -2.7827141 ,  2.9129577 , -0.6313133 ,  2.0387425 , -4.222685  ,\n",
       "       -2.7560544 ,  1.7903243 , -1.3080189 , -2.5531402 , -0.43849912,\n",
       "       -3.1073573 , -0.29090825,  5.1817617 ,  1.9604833 , -5.1421604 ,\n",
       "       -0.71431434,  4.5624633 , -0.55525815, -3.3019137 ,  1.6761336 ,\n",
       "       -1.9606539 , -0.2726863 ,  0.2465995 ,  1.2685091 ,  1.6055685 ,\n",
       "        1.8344896 ,  1.2752469 ,  0.99503314, -2.3348706 , -0.9290329 ,\n",
       "       -1.5920266 ,  5.693834  ,  1.1132814 , -0.9603875 , -1.970055  ,\n",
       "       -1.0120267 , -2.7289615 , -2.7759619 ,  3.214084  ,  1.8573734 ,\n",
       "       -1.3495721 , -0.10321241,  3.434593  , -2.8573685 , -1.9004927 ,\n",
       "       -1.6801298 , -2.805677  ,  1.7723105 , -0.41865307, -2.310913  ,\n",
       "       -6.2761464 , -0.8376036 ,  2.4590037 ,  2.1697695 , -4.440443  ],\n",
       "      dtype=float32)"
      ]
     },
     "execution_count": 229,
     "metadata": {},
     "output_type": "execute_result"
    }
   ],
   "source": [
    "from gensim.models.keyedvectors import Word2VecKeyedVectors\n",
    "\n",
    "word2vec_file_path = os.getenv('HOME')+'/data/word2vec_ko.model'\n",
    "\n",
    "word2vectors = Word2VecKeyedVectors.load(word2vec_file_path)\n",
    "word2vectors.wv[\"끝\"]"
   ]
  },
  {
   "cell_type": "code",
   "execution_count": 277,
   "id": "af7b6d06",
   "metadata": {},
   "outputs": [
    {
     "name": "stdout",
     "output_type": "stream",
     "text": [
      "('당함', 0.877016007900238) ('격전', 0.8050743341445923)\n",
      "('명작', 0.8660417795181274) ('말싸움', 0.7830536365509033)\n",
      "('정무문', 0.8579185605049133) ('대결', 0.779976487159729)\n",
      "('내린', 0.8579135537147522) ('추격전', 0.7779183983802795)\n",
      "('이만', 0.8577544689178467) ('몸싸움', 0.7770674228668213)\n",
      "('련지', 0.8569226861000061) ('말다툼', 0.7768386006355286)\n",
      "('걸작', 0.8558192849159241) ('신경전', 0.7767255306243896)\n",
      "('치즈', 0.8533986210823059) ('언쟁', 0.7748841643333435)\n",
      "('해냈', 0.8519948720932007) ('일전', 0.7747855186462402)\n",
      "('봐야', 0.8519643545150757) ('교전', 0.7501595616340637)\n"
     ]
    }
   ],
   "source": [
    "# 바닥부터 만든 embdding은 일반적이지 않은, 리뷰 문장이라는 정해진 문맥 내에서 유사 단어를 가져온다.\n",
    "# pretrained embedding의 경우 보다 일반적인 문맥에 맞는 유사 단어를 가져온다.\n",
    "for non_pretrained, pretrained in zip(\n",
    "    lstm_word_vectors.similar_by_word(\"싸움\"), \n",
    "    word_vectors.wv.similar_by_word(\"싸움\")):\n",
    "\n",
    "    print(non_pretrained, pretrained)"
   ]
  },
  {
   "cell_type": "code",
   "execution_count": 230,
   "id": "3c14bc0e",
   "metadata": {},
   "outputs": [],
   "source": [
    "vocab_size = len(word_to_index)\n",
    "word_vector_dim = 100\n",
    "\n",
    "embedding_matrix = np.random.rand(vocab_size, word_vector_dim)\n",
    "\n",
    "# embedding_matrix에 Word2Vec 워드 벡터를 단어 하나씩마다 차례차례 카피한다.\n",
    "for i in range(4, vocab_size):\n",
    "    if index_to_word[i] in word_vectors.wv:\n",
    "        embedding_matrix[i] = word_vectors.wv[index_to_word[i]]"
   ]
  },
  {
   "cell_type": "code",
   "execution_count": 250,
   "id": "85a18a96",
   "metadata": {},
   "outputs": [
    {
     "name": "stdout",
     "output_type": "stream",
     "text": [
      "Model: \"sequential_17\"\n",
      "_________________________________________________________________\n",
      "Layer (type)                 Output Shape              Param #   \n",
      "=================================================================\n",
      "embedding_29 (Embedding)     (None, None, 100)         1000300   \n",
      "_________________________________________________________________\n",
      "lstm_15 (LSTM)               (None, 30)                15720     \n",
      "_________________________________________________________________\n",
      "dense_58 (Dense)             (None, 30)                930       \n",
      "_________________________________________________________________\n",
      "dense_59 (Dense)             (None, 1)                 31        \n",
      "=================================================================\n",
      "Total params: 1,016,981\n",
      "Trainable params: 1,016,981\n",
      "Non-trainable params: 0\n",
      "_________________________________________________________________\n"
     ]
    }
   ],
   "source": [
    "from tensorflow.keras.initializers import Constant\n",
    "\n",
    "model = keras.models.Sequential([\n",
    "    keras.layers.Embedding(vocab_size, word_vector_dim, \n",
    "                           embeddings_initializer=Constant(embedding_matrix),\n",
    "                           trainable=True),\n",
    "    keras.layers.LSTM(30),\n",
    "    keras.layers.Dense(30, activation=\"relu\"),\n",
    "    keras.layers.Dense(1, activation=\"sigmoid\"),\n",
    "])\n",
    "\n",
    "model.summary()"
   ]
  },
  {
   "cell_type": "code",
   "execution_count": 251,
   "id": "b2732c63",
   "metadata": {},
   "outputs": [
    {
     "name": "stdout",
     "output_type": "stream",
     "text": [
      "Epoch 1/20\n",
      "1563/1563 [==============================] - 12s 6ms/step - loss: 0.4421 - accuracy: 0.7901 - val_loss: 0.3743 - val_accuracy: 0.8314\n",
      "Epoch 2/20\n",
      "1563/1563 [==============================] - 10s 6ms/step - loss: 0.3300 - accuracy: 0.8563 - val_loss: 0.3410 - val_accuracy: 0.8480\n",
      "Epoch 3/20\n",
      "1563/1563 [==============================] - 10s 6ms/step - loss: 0.2916 - accuracy: 0.8767 - val_loss: 0.3359 - val_accuracy: 0.8550\n",
      "Epoch 4/20\n",
      "1563/1563 [==============================] - 10s 6ms/step - loss: 0.2647 - accuracy: 0.8885 - val_loss: 0.3448 - val_accuracy: 0.8526\n",
      "Epoch 5/20\n",
      "1563/1563 [==============================] - 10s 6ms/step - loss: 0.2421 - accuracy: 0.9005 - val_loss: 0.3414 - val_accuracy: 0.8562\n",
      "Epoch 6/20\n",
      "1563/1563 [==============================] - 10s 6ms/step - loss: 0.2212 - accuracy: 0.9112 - val_loss: 0.3643 - val_accuracy: 0.8543\n",
      "Epoch 7/20\n",
      "1563/1563 [==============================] - 10s 6ms/step - loss: 0.2014 - accuracy: 0.9203 - val_loss: 0.3763 - val_accuracy: 0.8481\n",
      "Epoch 8/20\n",
      "1563/1563 [==============================] - 10s 6ms/step - loss: 0.1827 - accuracy: 0.9284 - val_loss: 0.4017 - val_accuracy: 0.8504\n",
      "Epoch 9/20\n",
      "1563/1563 [==============================] - 10s 6ms/step - loss: 0.1643 - accuracy: 0.9373 - val_loss: 0.4122 - val_accuracy: 0.8482\n",
      "Epoch 10/20\n",
      "1563/1563 [==============================] - 10s 6ms/step - loss: 0.1465 - accuracy: 0.9455 - val_loss: 0.4431 - val_accuracy: 0.8476\n",
      "Epoch 11/20\n",
      "1563/1563 [==============================] - 10s 6ms/step - loss: 0.1322 - accuracy: 0.9510 - val_loss: 0.4544 - val_accuracy: 0.8478\n",
      "Epoch 12/20\n",
      "1563/1563 [==============================] - 10s 7ms/step - loss: 0.1180 - accuracy: 0.9579 - val_loss: 0.5175 - val_accuracy: 0.8417\n",
      "Epoch 13/20\n",
      "1563/1563 [==============================] - 10s 6ms/step - loss: 0.1049 - accuracy: 0.9622 - val_loss: 0.5853 - val_accuracy: 0.8426\n",
      "Epoch 14/20\n",
      "1563/1563 [==============================] - 10s 6ms/step - loss: 0.0952 - accuracy: 0.9660 - val_loss: 0.5686 - val_accuracy: 0.8420\n",
      "Epoch 15/20\n",
      "1563/1563 [==============================] - 10s 6ms/step - loss: 0.0853 - accuracy: 0.9696 - val_loss: 0.6090 - val_accuracy: 0.8408\n",
      "Epoch 16/20\n",
      "1563/1563 [==============================] - 10s 6ms/step - loss: 0.0771 - accuracy: 0.9732 - val_loss: 0.6565 - val_accuracy: 0.8411\n",
      "Epoch 17/20\n",
      "1563/1563 [==============================] - 10s 6ms/step - loss: 0.0693 - accuracy: 0.9754 - val_loss: 0.7122 - val_accuracy: 0.8401\n",
      "Epoch 18/20\n",
      "1563/1563 [==============================] - 10s 6ms/step - loss: 0.0651 - accuracy: 0.9772 - val_loss: 0.7429 - val_accuracy: 0.8373\n",
      "Epoch 19/20\n",
      "1563/1563 [==============================] - 10s 6ms/step - loss: 0.0581 - accuracy: 0.9800 - val_loss: 0.7742 - val_accuracy: 0.8407\n",
      "Epoch 20/20\n",
      "1563/1563 [==============================] - 9s 6ms/step - loss: 0.0541 - accuracy: 0.9813 - val_loss: 0.8091 - val_accuracy: 0.8375\n"
     ]
    }
   ],
   "source": [
    "model.compile(optimizer='adam',\n",
    "              loss='binary_crossentropy',\n",
    "              metrics=['accuracy'])\n",
    "              \n",
    "callbacks = [\n",
    "    tf.keras.callbacks.ModelCheckpoint(\"LSTM_model_fine_tuning.keras\",\n",
    "                                       monitor=\"val_loss\",\n",
    "                                       save_best_only=True)\n",
    "]\n",
    "    \n",
    "history = model.fit(X_train, y_train,\n",
    "                    epochs=20,\n",
    "                    batch_size=64,\n",
    "                    validation_data=(X_valid, y_valid),\n",
    "                    callbacks=callbacks,\n",
    "                    verbose=1)"
   ]
  },
  {
   "cell_type": "code",
   "execution_count": 252,
   "id": "af21738b",
   "metadata": {},
   "outputs": [
    {
     "data": {
      "image/png": "[encoded data removed]",
      "text/plain": [
       "<Figure size 720x360 with 2 Axes>"
      ]
     },
     "metadata": {
      "needs_background": "light"
     },
     "output_type": "display_data"
    }
   ],
   "source": [
    "plt.figure(figsize=(10, 5))\n",
    "plot_history(model, history)"
   ]
  },
  {
   "cell_type": "code",
   "execution_count": 254,
   "id": "59ff8a67",
   "metadata": {},
   "outputs": [
    {
     "name": "stdout",
     "output_type": "stream",
     "text": [
      "1537/1537 - 4s - loss: 0.3405 - accuracy: 0.8515\n",
      "test_loss=0.3404850661754608, test_accuracy=0.851455569267273\n"
     ]
    }
   ],
   "source": [
    "best_model = tf.keras.models.load_model(\"LSTM_model_fine_tuning.keras\")\n",
    "test_loss, test_accuracy = best_model.evaluate(X_test,  y_test, verbose=2)\n",
    "\n",
    "print(f\"{test_loss=}, {test_accuracy=}\")"
   ]
  },
  {
   "cell_type": "markdown",
   "id": "9af07e51",
   "metadata": {},
   "source": [
    "---\n",
    "\n",
    "# 회고\n",
    "\n",
    "- RNN 계열인 GRU, LSTM 모델과 비 RNN 계열 모델을 비교하고자 CNN 모델을 사용하여 실험을 진행했다. \n",
    "- GRU, LSTM, CNN을 사용하여 모델 학습을 진행하고 이 결과를 토대로 성능이 가장 좋은 모델을 선정한 뒤 pretrained embedding을 사용하여 성능을 추가로 비교하였다.\n",
    "\n",
    "| | GRU | LSTM | CNN | LSTM with Pretrained Embedding |\n",
    "| - | - | - | - | - |\n",
    "| Loss | 0.3361 | 0.3349 | 0.4283 | 0.3404 |\n",
    "| Accuracy | 0.8527 | 0.8536 | 0.7953 | 0.8514 |\n",
    "\n",
    "- pretrained embedding을 사용하면 성능이 좋아질줄 알았는데 그렇지 않았다.\n",
    "  - 단순한 task에 비해 embedding dimension이 필요이상으로 커서 그런것이 아닐까 라는 추측을 해본다.\n",
    "- 나중에 여유가 된다면 Transformer 계열 모델로 성능을 비교해보면 좋을 것 같다."
   ]
  },
  {
   "cell_type": "code",
   "execution_count": null,
   "id": "da0a6671",
   "metadata": {},
   "outputs": [],
   "source": []
  }
 ],
 "metadata": {
  "kernelspec": {
   "display_name": "Python 3 (ipykernel)",
   "language": "python",
   "name": "python3"
  },
  "language_info": {
   "codemirror_mode": {
    "name": "ipython",
    "version": 3
   },
   "file_extension": ".py",
   "mimetype": "text/x-python",
   "name": "python",
   "nbconvert_exporter": "python",
   "pygments_lexer": "ipython3",
   "version": "3.9.7"
  }
 },
 "nbformat": 4,
 "nbformat_minor": 5
}
